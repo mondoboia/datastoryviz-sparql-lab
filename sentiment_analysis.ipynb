{
 "cells": [
  {
   "cell_type": "markdown",
   "id": "ea4d05cb",
   "metadata": {},
   "source": [
    "# Sentiment Analysis of Stundents' Feeedback"
   ]
  },
  {
   "cell_type": "code",
   "execution_count": 1,
   "id": "9c48f439",
   "metadata": {},
   "outputs": [],
   "source": [
    "import pandas as pd\n",
    "import matplotlib.pyplot as plt\n",
    "\n",
    "df = pd.read_csv(\"Feedback_post_exam.csv\")"
   ]
  },
  {
   "cell_type": "code",
   "execution_count": 2,
   "id": "d4a681f4",
   "metadata": {},
   "outputs": [
    {
     "data": {
      "text/html": [
       "<div>\n",
       "<style scoped>\n",
       "    .dataframe tbody tr th:only-of-type {\n",
       "        vertical-align: middle;\n",
       "    }\n",
       "\n",
       "    .dataframe tbody tr th {\n",
       "        vertical-align: top;\n",
       "    }\n",
       "\n",
       "    .dataframe thead th {\n",
       "        text-align: right;\n",
       "    }\n",
       "</style>\n",
       "<table border=\"1\" class=\"dataframe\">\n",
       "  <thead>\n",
       "    <tr style=\"text-align: right;\">\n",
       "      <th>Sentiment</th>\n",
       "      <th>Negative</th>\n",
       "      <th>Neutral</th>\n",
       "      <th>Positive</th>\n",
       "      <th>Total</th>\n",
       "    </tr>\n",
       "    <tr>\n",
       "      <th>Topic</th>\n",
       "      <th></th>\n",
       "      <th></th>\n",
       "      <th></th>\n",
       "      <th></th>\n",
       "    </tr>\n",
       "  </thead>\n",
       "  <tbody>\n",
       "    <tr>\n",
       "      <th>communication</th>\n",
       "      <td>0</td>\n",
       "      <td>0</td>\n",
       "      <td>19</td>\n",
       "      <td>19</td>\n",
       "    </tr>\n",
       "    <tr>\n",
       "      <th>data sources</th>\n",
       "      <td>30</td>\n",
       "      <td>0</td>\n",
       "      <td>7</td>\n",
       "      <td>37</td>\n",
       "    </tr>\n",
       "    <tr>\n",
       "      <th>general</th>\n",
       "      <td>1</td>\n",
       "      <td>0</td>\n",
       "      <td>9</td>\n",
       "      <td>10</td>\n",
       "    </tr>\n",
       "    <tr>\n",
       "      <th>melody usage</th>\n",
       "      <td>18</td>\n",
       "      <td>2</td>\n",
       "      <td>20</td>\n",
       "      <td>40</td>\n",
       "    </tr>\n",
       "    <tr>\n",
       "      <th>Total</th>\n",
       "      <td>49</td>\n",
       "      <td>2</td>\n",
       "      <td>55</td>\n",
       "      <td>106</td>\n",
       "    </tr>\n",
       "  </tbody>\n",
       "</table>\n",
       "</div>"
      ],
      "text/plain": [
       "Sentiment      Negative  Neutral  Positive  Total\n",
       "Topic                                            \n",
       "communication         0        0        19     19\n",
       "data sources         30        0         7     37\n",
       "general               1        0         9     10\n",
       "melody usage         18        2        20     40\n",
       "Total                49        2        55    106"
      ]
     },
     "metadata": {},
     "output_type": "display_data"
    }
   ],
   "source": [
    "pivot = pd.crosstab(df[\"Topic\"], df[\"Sentiment\"])\n",
    "pivot[\"Total\"] = pivot.sum(axis=1)\n",
    "pivot.loc[\"Total\"] = pivot.sum()\n",
    "display(pivot)"
   ]
  },
  {
   "cell_type": "code",
   "execution_count": null,
   "id": "d417d4d7",
   "metadata": {},
   "outputs": [
    {
     "name": "stderr",
     "output_type": "stream",
     "text": [
      "The PostScript backend does not support transparency; partially transparent artists will be rendered opaque.\n"
     ]
    },
    {
     "data": {
      "image/png": "[encoded data removed]",
      "text/plain": [
       "<Figure size 800x500 with 1 Axes>"
      ]
     },
     "metadata": {},
     "output_type": "display_data"
    }
   ],
   "source": [
    "ax = pivot.drop(\"Total\").drop(columns=\"Total\").plot(\n",
    "    kind=\"bar\",\n",
    "    stacked=True,\n",
    "    figsize=(8,5),\n",
    "    color=[\"red\", \"gold\", \"green\"]  # Negative, Neutral, Positive\n",
    ")\n",
    "\n",
    "plt.xlabel(\"Topic\", labelpad=10)\n",
    "plt.ylabel(\"Count\", labelpad=10)\n",
    "plt.xticks(rotation=0, ha=\"center\")\n",
    "plt.legend(\n",
    "    loc=\"upper center\",\n",
    "    bbox_to_anchor=(0.5, 1.15),\n",
    "    ncol=3,\n",
    "    frameon=False\n",
    ")\n",
    "plt.grid(axis='y', linestyle='--', alpha=0.4)\n",
    "ax.yaxis.grid(True)\n",
    "ax.xaxis.grid(False)\n",
    "for spine in ax.spines.values():\n",
    "    spine.set_visible(False)\n",
    "plt.tight_layout()\n",
    "# Save as JPG with 300 dpi and EPS (vector format, resolution-independent)\n",
    "# plt.savefig(\"outputs/img/30.jpg\", dpi=300, bbox_inches=\"tight\", format=\"jpg\")\n",
    "# plt.savefig(\"outputs/img/30.eps\", format=\"eps\", bbox_inches=\"tight\")\n",
    "plt.show()"
   ]
  }
 ],
 "metadata": {
  "kernelspec": {
   "display_name": "venv",
   "language": "python",
   "name": "python3"
  },
  "language_info": {
   "codemirror_mode": {
    "name": "ipython",
    "version": 3
   },
   "file_extension": ".py",
   "mimetype": "text/x-python",
   "name": "python",
   "nbconvert_exporter": "python",
   "pygments_lexer": "ipython3",
   "version": "3.11.9"
  }
 },
 "nbformat": 4,
 "nbformat_minor": 5
}
