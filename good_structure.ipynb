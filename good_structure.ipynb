{
 "cells": [
  {
   "cell_type": "markdown",
   "id": "167fa42b",
   "metadata": {},
   "source": [
    "# Good Structure: Elements Alternation"
   ]
  },
  {
   "cell_type": "code",
   "execution_count": 1,
   "id": "e2a673b1",
   "metadata": {},
   "outputs": [],
   "source": [
    "import pandas as pd\n",
    "import json\n",
    "\n",
    "def alternation_score(sequence):\n",
    "    \"\"\"\n",
    "    Compute an alternation score for a sequence of components.\n",
    "    Repeated 'text' or 'count' elements are collapsed into one before computing alternations.\n",
    "    \"\"\"\n",
    "\n",
    "    # Collapse consecutive 'text' or 'count' elements\n",
    "    collapsed = []\n",
    "    prev = None\n",
    "    for elem in sequence:\n",
    "        if elem in [\"text\", \"count\"]:\n",
    "            if prev != elem:\n",
    "                collapsed.append(elem)\n",
    "        else:\n",
    "            collapsed.append(elem)\n",
    "        prev = elem\n",
    "\n",
    "    if len(collapsed) < 2:\n",
    "        return 1.0\n",
    "\n",
    "    changes = sum(1 for i in range(len(collapsed) - 1) if collapsed[i] != collapsed[i + 1])\n",
    "    score = changes / (len(collapsed) - 1)\n",
    "    return score\n",
    "\n"
   ]
  },
  {
   "cell_type": "code",
   "execution_count": 2,
   "id": "efaaeee3",
   "metadata": {},
   "outputs": [
    {
     "name": "stdout",
     "output_type": "stream",
     "text": [
      "    story_id  alternation_score\n",
      "0   D-hp3wDV           0.700000\n",
      "1   y4Srva15           0.400000\n",
      "2   7qpfziir           0.928571\n",
      "3   Nokx0yU6           0.666667\n",
      "4   gz_gxhYn           0.928571\n",
      "5   U2OtB3XT           0.928571\n",
      "6   v4h_GSI0           0.800000\n",
      "7   1ptR3pru           0.250000\n",
      "8   JQpdcw-d           0.882353\n",
      "9   B9SLlUry           0.428571\n",
      "10  r7i-PG2n           0.846154\n",
      "11  AUmcnOzL           0.888889\n",
      "12  tyK82z37           0.764706\n",
      "13  IRRbkmZk           0.818182\n",
      "14  Vy4_Rxzv           0.500000\n",
      "15  M9EZmoBI           0.851852\n",
      "16  uhDaBOl1           0.733333\n",
      "17  SXefpzf4           0.500000\n",
      "18  EzsIH_Et           0.500000\n",
      "19  16FP4tfG           0.400000\n",
      "20  sUMoEZI5           0.684211\n",
      "21  _HnVHPjm           0.666667\n",
      "22  4D206Lam           0.454545\n",
      "23  j3ZikN40           0.700000\n",
      "24  BOGODrvZ           1.000000\n",
      "25  abkhtH-r           0.300000\n",
      "26  Huo1mZpJ           1.000000\n",
      "27  JYOzBt8Y           0.500000\n",
      "28  buiNjeJj           0.473684\n",
      "29  PziKYGG_           0.882353\n",
      "30  wa1_2kB_           1.000000\n",
      "31  lkuzAhad           0.812500\n",
      "32  jamFJtUo           0.900000\n",
      "33  gzeEqkGo           0.300000\n",
      "34  KzqVF2Z6           0.352941\n",
      "35  Ww1HhAGH           1.000000\n",
      "36  IuSofTQ_           0.555556\n",
      "37  TQjKggI7           1.000000\n",
      "38  Jzaeaf75           0.875000\n",
      "39  SghkiaeU           0.300000\n",
      "40  R2GpYpI5           0.900000\n",
      "41  l3RukqzW           0.619048\n",
      "42  -QO5tO8t           1.000000\n",
      "43  N12KW_UW           1.000000\n",
      "44  8TaxJyd-           0.900000\n",
      "45  a-LzrTFa           0.888889\n",
      "46  mJpAWU1f           0.625000\n",
      "47  GVfxLAss           0.428571\n",
      "48  GENuDEXR           0.857143\n",
      "49  GghVmi8y           0.500000\n",
      "50  6yGct8pP           0.500000\n"
     ]
    }
   ],
   "source": [
    "with open(\"data_stories_summary.json\", \"r\", encoding=\"utf-8\") as f:\n",
    "    data = json.load(f)\n",
    "\n",
    "results = []\n",
    "\n",
    "for story_id, story_content in data.items():\n",
    "    elements = story_content.get(\"elements\", [])\n",
    "    score = alternation_score(elements)\n",
    "    results.append({\n",
    "        \"story_id\": story_id,\n",
    "        \"alternation_score\": score\n",
    "    })\n",
    "\n",
    "df_alternation = pd.DataFrame(results)\n",
    "df_alternation.to_csv(\"outputs/alternation_scores.csv\")\n",
    "\n",
    "print(df_alternation)"
   ]
  },
  {
   "cell_type": "code",
   "execution_count": 3,
   "id": "6270beb0",
   "metadata": {},
   "outputs": [
    {
     "name": "stdout",
     "output_type": "stream",
     "text": [
      "    story_id  alternation_score  sparql_proficiency\n",
      "0   D-hp3wDV           0.700000            0.419361\n",
      "1   y4Srva15           0.400000            0.293553\n",
      "2   7qpfziir           0.928571            0.344963\n",
      "3   Nokx0yU6           0.666667            0.228978\n",
      "4   gz_gxhYn           0.928571            0.337006\n",
      "5   U2OtB3XT           0.928571            0.366358\n",
      "6   v4h_GSI0           0.800000            0.311218\n",
      "7   1ptR3pru           0.250000            0.289714\n",
      "8   JQpdcw-d           0.882353            0.280591\n",
      "9   B9SLlUry           0.428571            0.375198\n",
      "10  r7i-PG2n           0.846154            0.576555\n",
      "11  AUmcnOzL           0.888889            0.470986\n",
      "12  tyK82z37           0.764706            0.243941\n",
      "13  IRRbkmZk           0.818182            0.312014\n",
      "14  Vy4_Rxzv           0.500000            0.422130\n",
      "15  M9EZmoBI           0.851852            0.226322\n",
      "16  uhDaBOl1           0.733333            0.182971\n",
      "19  16FP4tfG           0.400000            0.318246\n",
      "20  sUMoEZI5           0.684211            0.169628\n",
      "21  _HnVHPjm           0.666667            0.128986\n",
      "22  4D206Lam           0.454545            0.310680\n",
      "23  j3ZikN40           0.700000            0.477190\n",
      "24  BOGODrvZ           1.000000            0.536398\n",
      "25  abkhtH-r           0.300000            0.330795\n",
      "26  Huo1mZpJ           1.000000            0.316717\n",
      "27  JYOzBt8Y           0.500000            0.373926\n",
      "28  buiNjeJj           0.473684            0.284591\n",
      "29  PziKYGG_           0.882353            0.357286\n",
      "30  wa1_2kB_           1.000000            0.244300\n",
      "31  lkuzAhad           0.812500            0.239243\n",
      "32  jamFJtUo           0.900000            0.233193\n",
      "33  gzeEqkGo           0.300000            0.316651\n",
      "34  KzqVF2Z6           0.352941            0.264192\n",
      "35  Ww1HhAGH           1.000000            0.655978\n",
      "36  IuSofTQ_           0.555556            0.295671\n",
      "37  TQjKggI7           1.000000            0.302738\n",
      "38  Jzaeaf75           0.875000            0.438352\n",
      "39  SghkiaeU           0.300000            0.337694\n",
      "40  R2GpYpI5           0.900000            0.486059\n",
      "41  l3RukqzW           0.619048            0.271518\n",
      "42  -QO5tO8t           1.000000            0.223469\n",
      "43  N12KW_UW           1.000000            0.397006\n",
      "44  8TaxJyd-           0.900000            0.539511\n",
      "45  a-LzrTFa           0.888889            0.318148\n",
      "46  mJpAWU1f           0.625000            0.276020\n",
      "47  GVfxLAss           0.428571            0.339040\n",
      "48  GENuDEXR           0.857143            0.421924\n",
      "49  GghVmi8y           0.500000            0.434932\n"
     ]
    }
   ],
   "source": [
    "import pandas as pd \n",
    "\n",
    "df_alternation = pd.read_csv('outputs/alternation_scores.csv', index_col=0)\n",
    "df_sparql = pd.read_csv('outputs/sparql_proficiency_new.csv', index_col=0) # using new SPARQL proficiency with many features (can be changed to sparql_proficiency.csv to see the difference)\n",
    "\n",
    "df_combined = pd.merge(df_alternation[['story_id', 'alternation_score']],\n",
    "                       df_sparql[['story_id', 'sparql_proficiency']],\n",
    "                       on='story_id', how='inner')\n",
    "\n",
    "story_no_text = ['SXefpzf4', 'EzsIH_Et', '6yGct8pP']\n",
    "\n",
    "df_filtered = df_combined[~df_combined['story_id'].isin(story_no_text)]\n",
    "\n",
    "print(df_filtered)"
   ]
  },
  {
   "cell_type": "code",
   "execution_count": 4,
   "id": "476f3a02",
   "metadata": {},
   "outputs": [
    {
     "data": {
      "image/png": "[encoded data removed]",
      "text/plain": [
       "<Figure size 640x480 with 1 Axes>"
      ]
     },
     "metadata": {},
     "output_type": "display_data"
    }
   ],
   "source": [
    "import numpy as np\n",
    "import matplotlib.pyplot as plt\n",
    " \n",
    "x = np.array(df_filtered['alternation_score'])\n",
    "y = np.array(df_filtered['sparql_proficiency'])\n",
    " \n",
    "# Compute best-fit line (linear regression)\n",
    "m, b = np.polyfit(x, y, 1)  # 1st-degree polynomial (y = mx + b)\n",
    " \n",
    "# Create scatter plot\n",
    "plt.scatter(x, y, color='#b14ecf', label=\"Data points\")\n",
    " \n",
    "# Plot best-fit line\n",
    "x_sorted = np.sort(x)\n",
    "plt.plot(x_sorted, m*x_sorted + b, color='#29a1cf', linewidth=1, label=\"Best-fit line\")\n",
    " \n",
    "# Labels and title\n",
    "plt.xlabel(\"Elements Alternation\")\n",
    "plt.ylabel(\"SPARQL Proficiency\")\n",
    "plt.grid(True)\n",
    "plt.show()"
   ]
  },
  {
   "cell_type": "code",
   "execution_count": 5,
   "id": "96717a70",
   "metadata": {},
   "outputs": [
    {
     "name": "stdout",
     "output_type": "stream",
     "text": [
      "Pearson correlation: 0.216 (p-value: 0.141)\n",
      "Spearman correlation: 0.181 (p-value: 0.218)\n"
     ]
    }
   ],
   "source": [
    "from scipy.stats import pearsonr, spearmanr\n",
    "\n",
    "# Pearson correlation (measures linear relationship)\n",
    "pearson_corr, pearson_p = pearsonr(x, y)\n",
    "\n",
    "# Spearman correlation (measures monotonic relationship, rank-based)\n",
    "spearman_corr, spearman_p = spearmanr(x, y)\n",
    "\n",
    "# Print results\n",
    "print(f\"Pearson correlation: {pearson_corr:.3f} (p-value: {pearson_p:.3f})\")\n",
    "print(f\"Spearman correlation: {spearman_corr:.3f} (p-value: {spearman_p:.3f})\")"
   ]
  }
 ],
 "metadata": {
  "kernelspec": {
   "display_name": "venv",
   "language": "python",
   "name": "python3"
  },
  "language_info": {
   "codemirror_mode": {
    "name": "ipython",
    "version": 3
   },
   "file_extension": ".py",
   "mimetype": "text/x-python",
   "name": "python",
   "nbconvert_exporter": "python",
   "pygments_lexer": "ipython3",
   "version": "3.11.9"
  }
 },
 "nbformat": 4,
 "nbformat_minor": 5
}
