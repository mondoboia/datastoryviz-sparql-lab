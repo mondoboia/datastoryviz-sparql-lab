{
 "cells": [
  {
   "cell_type": "markdown",
   "id": "9a2bf6a7",
   "metadata": {},
   "source": [
    "## SPARQL Proficiency x Number of Visualisations"
   ]
  },
  {
   "cell_type": "code",
   "execution_count": null,
   "id": "6966830c",
   "metadata": {},
   "outputs": [
    {
     "name": "stdout",
     "output_type": "stream",
     "text": [
      "    story_id  num_data_viz\n",
      "0   D-hp3wDV             6\n",
      "1   y4Srva15             4\n",
      "2   7qpfziir             5\n",
      "3   Nokx0yU6             2\n",
      "4   gz_gxhYn             7\n",
      "5   U2OtB3XT             5\n",
      "6   v4h_GSI0             3\n",
      "7   1ptR3pru             7\n",
      "8   JQpdcw-d             9\n",
      "9   B9SLlUry             5\n",
      "10  r7i-PG2n             6\n",
      "11  AUmcnOzL             4\n",
      "12  tyK82z37            10\n",
      "13  IRRbkmZk             7\n",
      "14  Vy4_Rxzv             4\n",
      "15  M9EZmoBI            11\n",
      "16  uhDaBOl1             9\n",
      "17  SXefpzf4             2\n",
      "18  EzsIH_Et             5\n",
      "19  16FP4tfG             4\n",
      "20  sUMoEZI5            13\n",
      "21  _HnVHPjm             2\n",
      "22  4D206Lam             8\n",
      "23  j3ZikN40             6\n",
      "24  BOGODrvZ             7\n",
      "25  abkhtH-r             8\n",
      "26  Huo1mZpJ             8\n",
      "27  JYOzBt8Y             7\n",
      "28  buiNjeJj            14\n",
      "29  PziKYGG_             7\n",
      "30  wa1_2kB_            10\n",
      "31  lkuzAhad             9\n",
      "32  jamFJtUo            10\n",
      "33  gzeEqkGo             9\n",
      "34  KzqVF2Z6            13\n",
      "35  Ww1HhAGH             5\n",
      "36  IuSofTQ_             7\n",
      "37  TQjKggI7             1\n",
      "38  Jzaeaf75             3\n",
      "39  SghkiaeU             9\n",
      "40  R2GpYpI5             5\n",
      "41  l3RukqzW            13\n",
      "42  -QO5tO8t             0\n",
      "43  N12KW_UW             5\n",
      "44  8TaxJyd-             5\n",
      "45  a-LzrTFa             4\n",
      "46  mJpAWU1f            11\n",
      "47  GVfxLAss             5\n",
      "48  GENuDEXR             4\n",
      "49  GghVmi8y             3\n",
      "50  6yGct8pP             3\n"
     ]
    }
   ],
   "source": [
    "import pandas as pd\n",
    "import json\n",
    "\n",
    "with open(\"data_stories_summary.json\", \"r\", encoding=\"utf-8\") as f:\n",
    "    data = json.load(f)\n",
    "\n",
    "data_viz_counts = []\n",
    "for story_id, story_content in data.items():\n",
    "    elements = story_content.get(\"elements\", [])\n",
    "    num_data_viz = elements.count(\"data viz\")\n",
    "    data_viz_counts.append({\n",
    "        \"story_id\": story_id,\n",
    "        \"num_data_viz\": num_data_viz\n",
    "    })\n",
    "\n",
    "df_data_viz = pd.DataFrame(data_viz_counts)\n",
    "df_data_viz.to_csv(\"outputs/data_viz_num.csv\")\n",
    "print(df_data_viz)\n"
   ]
  },
  {
   "cell_type": "markdown",
   "id": "c71d1b6e",
   "metadata": {},
   "source": [
    "## Correlation Number of Data Viz X SPARQL Profiency"
   ]
  },
  {
   "cell_type": "code",
   "execution_count": null,
   "id": "0f0b8df6",
   "metadata": {},
   "outputs": [
    {
     "name": "stdout",
     "output_type": "stream",
     "text": [
      "    story_id  num_data_viz  sparql_proficiency\n",
      "0   D-hp3wDV             6            0.478493\n",
      "1   y4Srva15             4            0.349425\n",
      "2   7qpfziir             5            0.415019\n",
      "3   Nokx0yU6             2            0.140000\n",
      "4   gz_gxhYn             7            0.359328\n",
      "5   U2OtB3XT             5            0.381301\n",
      "6   v4h_GSI0             3            0.316986\n",
      "7   1ptR3pru             7            0.339878\n",
      "8   JQpdcw-d             9            0.332557\n",
      "9   B9SLlUry             5            0.373562\n",
      "10  r7i-PG2n             6            0.621796\n",
      "11  AUmcnOzL             4            0.442694\n",
      "12  tyK82z37            10            0.244134\n",
      "13  IRRbkmZk             7            0.337363\n",
      "14  Vy4_Rxzv             4            0.419452\n",
      "15  M9EZmoBI            11            0.256554\n",
      "16  uhDaBOl1             9            0.190336\n",
      "17  SXefpzf4             2            0.274110\n",
      "18  EzsIH_Et             5            0.281840\n",
      "19  16FP4tfG             4            0.388110\n",
      "20  sUMoEZI5            13            0.194457\n",
      "21  _HnVHPjm             2            0.195890\n",
      "22  4D206Lam             8            0.300274\n",
      "23  j3ZikN40             6            0.465205\n",
      "24  BOGODrvZ             7            0.591489\n",
      "25  abkhtH-r             8            0.304274\n",
      "26  Huo1mZpJ             8            0.303462\n",
      "27  JYOzBt8Y             7            0.356925\n",
      "28  buiNjeJj            14            0.282869\n",
      "29  PziKYGG_             7            0.358301\n",
      "30  wa1_2kB_            10            0.284511\n",
      "31  lkuzAhad             9            0.261324\n",
      "32  jamFJtUo            10            0.280498\n",
      "33  gzeEqkGo             9            0.312658\n",
      "34  KzqVF2Z6            13            0.280839\n",
      "35  Ww1HhAGH             5            0.682500\n",
      "36  IuSofTQ_             7            0.281126\n",
      "37  TQjKggI7             1            0.324384\n",
      "38  Jzaeaf75             3            0.471397\n",
      "39  SghkiaeU             9            0.311507\n",
      "40  R2GpYpI5             5            0.501644\n",
      "41  l3RukqzW            13            0.284307\n",
      "42  -QO5tO8t             0            0.271507\n",
      "43  N12KW_UW             5            0.416678\n",
      "44  8TaxJyd-             5            0.510254\n",
      "45  a-LzrTFa             4            0.313105\n",
      "46  mJpAWU1f            11            0.264089\n",
      "47  GVfxLAss             5            0.379041\n",
      "48  GENuDEXR             4            0.466262\n",
      "49  GghVmi8y             3            0.464164\n",
      "50  6yGct8pP             3            0.274521\n"
     ]
    }
   ],
   "source": [
    "df_sparql = pd.read_csv('outputs/sparql_proficiency.csv', index_col=0)\n",
    "df_data_viz = pd.read_csv('outputs/data_viz_num.csv', index_col=0)\n",
    "\n",
    "df_merged = pd.merge(df_data_viz, df_sparql[['story_id', 'sparql_proficiency']], on='story_id', how='inner')\n",
    "\n",
    "print(df_merged)"
   ]
  },
  {
   "cell_type": "code",
   "execution_count": 7,
   "id": "b2069117",
   "metadata": {},
   "outputs": [
    {
     "data": {
      "image/png": "[encoded data removed]",
      "text/plain": [
       "<Figure size 640x480 with 1 Axes>"
      ]
     },
     "metadata": {},
     "output_type": "display_data"
    }
   ],
   "source": [
    "import numpy as np\n",
    "import matplotlib.pyplot as plt\n",
    " \n",
    "x = np.array(df_merged['num_data_viz'])\n",
    "y = np.array(df_merged['sparql_proficiency'])\n",
    " \n",
    "# Compute best-fit line (linear regression)\n",
    "m, b = np.polyfit(x, y, 1)  # 1st-degree polynomial (y = mx + b)\n",
    " \n",
    "# Create scatter plot\n",
    "plt.scatter(x, y, color='#b14ecf', label=\"Data points\")\n",
    " \n",
    "# Plot best-fit line\n",
    "x_sorted = np.sort(x)\n",
    "plt.plot(x_sorted, m*x_sorted + b, color='#29a1cf', linewidth=1, label=\"Best-fit line\")\n",
    " \n",
    "# Labels and title\n",
    "plt.xlabel(\"Data Viz\")\n",
    "plt.ylabel(\"SPARQL Proficiency\")\n",
    "plt.legend()\n",
    "plt.show()"
   ]
  },
  {
   "cell_type": "code",
   "execution_count": 8,
   "id": "38519c79",
   "metadata": {},
   "outputs": [
    {
     "name": "stdout",
     "output_type": "stream",
     "text": [
      "Pearson correlation coefficient: -0.2751923523862141\n",
      "Spearman correlation coefficient: -0.3221414639219944\n"
     ]
    }
   ],
   "source": [
    "# Pearson\n",
    "correlation = df_merged['num_data_viz'].corr(df_merged['sparql_proficiency'])\n",
    "print(\"Pearson correlation coefficient:\", correlation)\n",
    "\n",
    "# Spearman \n",
    "spearman_corr = df_merged['num_data_viz'].corr(df_merged['sparql_proficiency'], method='spearman')\n",
    "print(\"Spearman correlation coefficient:\", spearman_corr)\n",
    "\n",
    "#Previous:\n",
    "# Pearson correlation coefficient: -0.1461511935830751\n",
    "# Spearman correlation coefficient: -0.2426243960001764"
   ]
  }
 ],
 "metadata": {
  "kernelspec": {
   "display_name": "venv",
   "language": "python",
   "name": "python3"
  },
  "language_info": {
   "codemirror_mode": {
    "name": "ipython",
    "version": 3
   },
   "file_extension": ".py",
   "mimetype": "text/x-python",
   "name": "python",
   "nbconvert_exporter": "python",
   "pygments_lexer": "ipython3",
   "version": "3.11.9"
  }
 },
 "nbformat": 4,
 "nbformat_minor": 5
}
