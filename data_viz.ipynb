{
 "cells": [
  {
   "cell_type": "markdown",
   "id": "9a2bf6a7",
   "metadata": {},
   "source": [
    "## SPARQL Proficiency x Number of Visualisations"
   ]
  },
  {
   "cell_type": "code",
   "execution_count": null,
   "id": "35e9c8e4",
   "metadata": {},
   "outputs": [],
   "source": [
    "import pandas as pd\n",
    "import json\n",
    "\n",
    "file_path = 'data_stories_summary.json'\n",
    "with open(file_path, 'r') as file:\n",
    "    data = json.load(file)"
   ]
  },
  {
   "cell_type": "code",
   "execution_count": null,
   "id": "6966830c",
   "metadata": {},
   "outputs": [
    {
     "name": "stdout",
     "output_type": "stream",
     "text": [
      "    story_id  num_data_viz\n",
      "0   D-hp3wDV             6\n",
      "1   y4Srva15             4\n",
      "2   7qpfziir             5\n",
      "3   Nokx0yU6             2\n",
      "4   gz_gxhYn             7\n",
      "5   U2OtB3XT             5\n",
      "6   v4h_GSI0             3\n",
      "7   1ptR3pru             7\n",
      "8   JQpdcw-d             9\n",
      "9   B9SLlUry             5\n",
      "10  r7i-PG2n             6\n",
      "11  AUmcnOzL             4\n",
      "12  tyK82z37            10\n",
      "13  IRRbkmZk             7\n",
      "14  Vy4_Rxzv             4\n",
      "15  M9EZmoBI            11\n",
      "16  uhDaBOl1             9\n",
      "17  SXefpzf4             2\n",
      "18  EzsIH_Et             5\n",
      "19  16FP4tfG             4\n",
      "20  sUMoEZI5            13\n",
      "21  _HnVHPjm             2\n",
      "22  4D206Lam             8\n",
      "23  j3ZikN40             6\n",
      "24  BOGODrvZ             7\n",
      "25  abkhtH-r             8\n",
      "26  Huo1mZpJ             8\n",
      "27  JYOzBt8Y             7\n",
      "28  buiNjeJj            14\n",
      "29  PziKYGG_             7\n",
      "30  wa1_2kB_            10\n",
      "31  lkuzAhad             9\n",
      "32  jamFJtUo            10\n",
      "33  gzeEqkGo             9\n",
      "34  KzqVF2Z6            13\n",
      "35  Ww1HhAGH             5\n",
      "36  IuSofTQ_             7\n",
      "37  TQjKggI7             1\n",
      "38  Jzaeaf75             3\n",
      "39  SghkiaeU             9\n",
      "40  R2GpYpI5             5\n",
      "41  l3RukqzW            13\n",
      "42  -QO5tO8t             0\n",
      "43  N12KW_UW             5\n",
      "44  8TaxJyd-             5\n",
      "45  a-LzrTFa             4\n",
      "46  mJpAWU1f            11\n",
      "47  GVfxLAss             5\n",
      "48  GENuDEXR             4\n",
      "49  GghVmi8y             3\n",
      "50  6yGct8pP             3\n"
     ]
    }
   ],
   "source": [
    "data_viz_counts = []\n",
    "for story_id, story_content in data.items():\n",
    "    elements = story_content.get(\"elements\", [])\n",
    "    num_data_viz = elements.count(\"data viz\")\n",
    "    data_viz_counts.append({\n",
    "        \"story_id\": story_id,\n",
    "        \"num_data_viz\": num_data_viz\n",
    "    })\n",
    "\n",
    "df_data_viz = pd.DataFrame(data_viz_counts)\n",
    "df_data_viz.to_csv(\"outputs/data_viz_num.csv\")\n",
    "print(df_data_viz)\n"
   ]
  },
  {
   "cell_type": "markdown",
   "id": "c71d1b6e",
   "metadata": {},
   "source": [
    "## Correlation Number of Data Viz X SPARQL Profiency"
   ]
  },
  {
   "cell_type": "code",
   "execution_count": 1,
   "id": "0f0b8df6",
   "metadata": {},
   "outputs": [],
   "source": [
    "import pandas as pd\n",
    "\n",
    "df_sparql = pd.read_csv('outputs/sparql_proficiency_final.csv', index_col=0)\n",
    "df_data_viz = pd.read_csv('outputs/data_viz_num.csv', index_col=0)\n",
    "\n",
    "df_merged = pd.merge(df_data_viz, df_sparql[['story_id', 'sparql_proficiency']], on='story_id', how='inner')"
   ]
  },
  {
   "cell_type": "code",
   "execution_count": null,
   "id": "b2069117",
   "metadata": {},
   "outputs": [
    {
     "data": {
      "image/png": "[encoded data removed]",
      "text/plain": [
       "<Figure size 640x480 with 1 Axes>"
      ]
     },
     "metadata": {},
     "output_type": "display_data"
    }
   ],
   "source": [
    "import numpy as np\n",
    "import matplotlib.pyplot as plt\n",
    "\n",
    "color_palette = ['#5565cf', '#b14ecf', '#cf4773', '#cf913f', '#87cf38', '#30cf6b', '#29a1cf', '#2138cf']\n",
    " \n",
    "x = np.array(df_merged['num_data_viz'])\n",
    "y = np.array(df_merged['sparql_proficiency'])\n",
    " \n",
    "# Compute best-fit line (linear regression)\n",
    "m, b = np.polyfit(x, y, 1)  # 1st-degree polynomial (y = mx + b)\n",
    " \n",
    "# Create scatter plot\n",
    "plt.scatter(x, y, color=color_palette[0], label=\"Data points\")\n",
    " \n",
    "# Plot best-fit line\n",
    "x_sorted = np.sort(x)\n",
    "plt.plot(x_sorted, m*x_sorted + b, color=color_palette[3], linewidth=1, label=\"Best-fit line\")\n",
    " \n",
    "# Labels and title\n",
    "plt.xlabel(\"N. Data Viz\", labelpad=10)\n",
    "plt.ylabel(\"SPARQL Proficiency\", labelpad=10)\n",
    "plt.grid(True)\n",
    "# Save as JPG with 300 dpi and EPS (vector format, resolution-independent)\n",
    "# plt.savefig(\"outputs/img/17.jpg\", dpi=300, bbox_inches=\"tight\", format=\"jpg\")\n",
    "# plt.savefig(\"outputs/img/17.eps\", format=\"eps\", bbox_inches=\"tight\")\n",
    "plt.show()"
   ]
  },
  {
   "cell_type": "code",
   "execution_count": 5,
   "id": "38519c79",
   "metadata": {},
   "outputs": [
    {
     "name": "stdout",
     "output_type": "stream",
     "text": [
      "Pearson correlation: -0.196 (p-value: 0.168)\n",
      "Spearman correlation: -0.277 (p-value: 0.049)\n"
     ]
    }
   ],
   "source": [
    "from scipy.stats import pearsonr, spearmanr\n",
    "\n",
    "# Pearson correlation (measures linear relationship)\n",
    "pearson_corr, pearson_p = pearsonr(x, y)\n",
    "\n",
    "# Spearman correlation (measures monotonic relationship, rank-based)\n",
    "spearman_corr, spearman_p = spearmanr(x, y)\n",
    "\n",
    "# Print results\n",
    "print(f\"Pearson correlation: {pearson_corr:.3f} (p-value: {pearson_p:.3f})\")\n",
    "print(f\"Spearman correlation: {spearman_corr:.3f} (p-value: {spearman_p:.3f})\")"
   ]
  }
 ],
 "metadata": {
  "kernelspec": {
   "display_name": "venv",
   "language": "python",
   "name": "python3"
  },
  "language_info": {
   "codemirror_mode": {
    "name": "ipython",
    "version": 3
   },
   "file_extension": ".py",
   "mimetype": "text/x-python",
   "name": "python",
   "nbconvert_exporter": "python",
   "pygments_lexer": "ipython3",
   "version": "3.11.9"
  }
 },
 "nbformat": 4,
 "nbformat_minor": 5
}
